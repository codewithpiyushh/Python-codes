{
  "nbformat": 4,
  "nbformat_minor": 0,
  "metadata": {
    "colab": {
      "provenance": [],
      "authorship_tag": "ABX9TyNTuiROJxPnxl6pj834BqWQ",
      "include_colab_link": true
    },
    "kernelspec": {
      "name": "python3",
      "display_name": "Python 3"
    },
    "language_info": {
      "name": "python"
    }
  },
  "cells": [
    {
      "cell_type": "markdown",
      "metadata": {
        "id": "view-in-github",
        "colab_type": "text"
      },
      "source": [
        "<a href=\"https://colab.research.google.com/github/codewithpiyushh/Python-codes/blob/main/Process_sceduling_OS.ipynb\" target=\"_parent\"><img src=\"https://colab.research.google.com/assets/colab-badge.svg\" alt=\"Open In Colab\"/></a>"
      ]
    },
    {
      "cell_type": "code",
      "source": [
        "def fcfs_scheduling(processes):\n",
        "    # Sort processes by arrival time\n",
        "    processes.sort(key=lambda x: x['arrival_time'])\n",
        "\n",
        "    current_time = 0\n",
        "\n",
        "    for process in processes:\n",
        "        if current_time < process['arrival_time']:\n",
        "            current_time = process['arrival_time']\n",
        "        process['completion_time'] = current_time + process['burst_time']\n",
        "        process['turnaround_time'] = process['completion_time'] - process['arrival_time']\n",
        "        process['waiting_time'] = process['turnaround_time'] - process['burst_time']\n",
        "        current_time = process['completion_time']\n",
        "\n",
        "def round_robin_scheduling(processes, quantum=2):\n",
        "    queue = []\n",
        "    time = 0\n",
        "\n",
        "    # Initialize processes\n",
        "    for process in processes:\n",
        "        process['remaining_time'] = process['burst_time']\n",
        "        process['completion_time'] = 0\n",
        "        process['turnaround_time'] = 0\n",
        "        process['waiting_time'] = 0\n",
        "\n",
        "    processes.sort(key=lambda x: x['arrival_time'])\n",
        "\n",
        "    while processes or queue:\n",
        "        # Add all processes that have arrived by the current time to the queue\n",
        "        while processes and processes[0]['arrival_time'] <= time:\n",
        "            queue.append(processes.pop(0))\n",
        "\n",
        "        if queue:\n",
        "            current_process = queue.pop(0)\n",
        "\n",
        "            if current_process['remaining_time'] <= quantum:\n",
        "                time += current_process['remaining_time']\n",
        "                current_process['remaining_time'] = 0\n",
        "                current_process['completion_time'] = time\n",
        "                current_process['turnaround_time'] = current_process['completion_time'] - current_process['arrival_time']\n",
        "                current_process['waiting_time'] = current_process['turnaround_time'] - current_process['burst_time']\n",
        "            else:\n",
        "                time += quantum\n",
        "                current_process['remaining_time'] -= quantum\n",
        "                queue.append(current_process)\n",
        "\n",
        "            # Add any new processes that have arrived during this time slice to the queue\n",
        "            while processes and processes[0]['arrival_time'] <= time:\n",
        "                queue.append(processes.pop(0))\n",
        "        else:\n",
        "            # If queue is empty but there are still processes, move time forward\n",
        "            if processes:\n",
        "                time = processes[0]['arrival_time']\n",
        "\n",
        "def print_process_info(processes):\n",
        "    print(\"PID\\tArrival\\tBurst\\tCompletion\\tTurnaround\\tWaiting\")\n",
        "    for process in processes:\n",
        "        print(f\"{process['pid']}\\t{process['arrival_time']}\\t{process['burst_time']}\\t{process['completion_time']}\\t\\t{process['turnaround_time']}\\t\\t{process['waiting_time']}\")\n",
        "\n",
        "\n",
        "processes = [\n",
        "    {'pid': 1, 'arrival_time': 0, 'burst_time': 4},\n",
        "    {'pid': 2, 'arrival_time': 1, 'burst_time': 3},\n",
        "    {'pid': 3, 'arrival_time': 2, 'burst_time': 1},\n",
        "    {'pid': 4, 'arrival_time': 3, 'burst_time': 2}\n",
        "]\n",
        "\n",
        "scheduling_algorithm = input(\"Enter the scheduling algorithm (first_come_first_serve or round_robin): \")\n",
        "\n",
        "if scheduling_algorithm == \"first_come_first_serve\":\n",
        "    processes_copy = [process.copy() for process in processes]\n",
        "    fcfs_scheduling(processes_copy)\n",
        "    print_process_info(processes_copy)\n",
        "elif scheduling_algorithm == \"round_robin\":\n",
        "    processes_copy = [process.copy() for process in processes]\n",
        "    round_robin_scheduling(processes_copy)\n",
        "    print_process_info(processes_copy)\n",
        "else:\n",
        "    print(\"Invalid input.\")\n"
      ],
      "metadata": {
        "id": "Sp_H9Kndzqrt",
        "colab": {
          "base_uri": "https://localhost:8080/"
        },
        "outputId": "86eda2f9-c4e6-4fe5-83a5-2ea43ddd37dc"
      },
      "execution_count": 3,
      "outputs": [
        {
          "output_type": "stream",
          "name": "stdout",
          "text": [
            "Enter the scheduling algorithm (first_come_first_serve or round_robin): round_robin\n",
            "PID\tArrival\tBurst\tCompletion\tTurnaround\tWaiting\n"
          ]
        }
      ]
    },
    {
      "cell_type": "markdown",
      "source": [],
      "metadata": {
        "id": "1t1x3_tuhY1L"
      }
    }
  ]
}